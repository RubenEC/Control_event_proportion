{
 "cells": [
  {
   "cell_type": "code",
   "execution_count": 23,
   "metadata": {
    "scrolled": true,
    "vscode": {
     "languageId": "r"
    }
   },
   "outputs": [
    {
     "name": "stderr",
     "output_type": "stream",
     "text": [
      "here() starts at C:/Users/ruben/OneDrive - UMCG/Control event proportion\n",
      "\n"
     ]
    }
   ],
   "source": [
    "require(\"deming\")\n",
    "library(deming)\n",
    "library(here)\n",
    "\n",
    "## Resultaten van regressie met package 'deming' geven confidence intervals die niet convergeren\n",
    "## naar die van standaard lm, als de sd van 'x' klein wordt.  Ik gebruik een empirische methode\n",
    "## om CIs te schatten."
   ]
  },
  {
   "cell_type": "code",
   "execution_count": 24,
   "metadata": {
    "vscode": {
     "languageId": "r"
    }
   },
   "outputs": [],
   "source": [
    "sample_data <- function(N=25, lambda=200, alpha=-0.25, beta=0.0, cer.shape=c(0.75,2), i2=0, cer0 = 0.5) {\n",
    "    ##\n",
    "    ## N = number of studies\n",
    "    ## lambda = Poisson rate for participants per study\n",
    "    ## alpha = scaled relative risk (RR intercept - 1 at CER=infty)\n",
    "    ## beta = scaled relative risk slope ( 0 < beta < 1)\n",
    "    ## cer.shape = shape parameters for beta distribution of CER\n",
    "    ## i2 = I squared parameter - fraction of variance due to random effects\n",
    "    ##\n",
    "    ## use beta = 0.25 for strong CER dependence, beta = 0 for none\n",
    "    ##\n",
    "    ## cer.shape was (1,2)\n",
    "    nc = 1 + rpois(N, lambda)\n",
    "    nt = 1 + rpois(N, lambda)\n",
    "    cer = rbeta(N, cer.shape[1], cer.shape[2])\n",
    "    \n",
    "    ## add random effect\n",
    "    cer.sd = sqrt( cer * (1-cer) / nc )\n",
    "    ter0 = cer * (1 + alpha - alpha * beta / cer)    ## approximation of ter - before adding random effects\n",
    "    ter0.sd = sqrt( ter0 * (1-ter0) / nt )\n",
    "    rr.sd = (ter0/cer) * sqrt( (ter0.sd/ter0)**2 + (cer.sd/cer)**2 )\n",
    "    random.sd = sqrt(1/(1 - i2) - 1) * rr.sd\n",
    "    epsilon = rnorm( N, 0, sd = random.sd )    ## this amount of variation corresponds to the I^2 value provided\n",
    "    rr = (1 + alpha - alpha * beta / cer) + epsilon\n",
    "\n",
    "    ## calculate ter\n",
    "    ter = rr * cer\n",
    "    \n",
    "    ## avoid occasional ter > 1, ter < 0\n",
    "    cer[ ter > 1 ] = cer[ ter > 1 ] / ter[ ter > 1 ]\n",
    "    ter[ ter > 1 ] = 1.0\n",
    "    ter[ ter < 0 ] = 0.0\n",
    "    \n",
    "    ## simulate data\n",
    "    ec = nc\n",
    "    et = nt\n",
    "    for(n in 1:N) {\n",
    "        ec[n] = rbinom(1, nc[n], cer[n])\n",
    "        et[n] = rbinom(1, nt[n], ter[n])\n",
    "    }\n",
    "    data <- list(\n",
    "      N = N,\n",
    "      nc = nc,\n",
    "      ec = ec,\n",
    "      nt = nt,\n",
    "      et = et,\n",
    "      cer0 = cer0,\n",
    "      true_cer.sd = sqrt(cer * (1-cer) / nc),\n",
    "      true_ter.sd = sqrt(ter * (1-ter) / nt),\n",
    "      true_rr0 = 1 + alpha - alpha * beta / cer0,\n",
    "      true_rr1 = 1 + alpha - alpha * beta)\n",
    "    return(data)\n",
    "}"
   ]
  },
  {
   "cell_type": "code",
   "execution_count": 25,
   "metadata": {
    "vscode": {
     "languageId": "r"
    }
   },
   "outputs": [],
   "source": [
    "run.deming <- function(data, cer0 = 0.5, replicates = 100, use.new.var=TRUE, use.true.sd=FALSE) {\n",
    "    ##\n",
    "    ## cer0 : control event rate for which the estimated RR and confidence interval is returned\n",
    "    ## replicates : number of simulated data sets to use for estimation of vcov\n",
    "    ##\n",
    "    \n",
    "    cer <- (0.5 + data$ec) / (1 + data$nc)   ## Expected posterior CER under Jeffrey's prior\n",
    "    ter <- (0.5 + data$et) / (1 + data$nt)   ## Expected posterior TER under Jeffrey's prior\n",
    "    ## Expectation of p(1-p) under Jeffrey's prior is P(1-P)(N+1/(N+2)), where N = nc or nt\n",
    "    #cer.sd <- sqrt( (0.5 + data$ec) * (0.5 + data$nc - data$ec) / (2 + data$nc) ) / (1 + data$nc)\n",
    "    #ter.sd <- sqrt( (0.5 + data$et) * (0.5 + data$nt - data$et) / (2 + data$nt) ) / (1 + data$nt)\n",
    "    ## Other attempt - sample from the Dirichlet, and use empirical estimate\n",
    "    ## This one gives better calibrated CI's\n",
    "    cer.sd <- cer\n",
    "    ter.sd <- ter\n",
    "    for (i in 1:length(cer)) {\n",
    "        cer.post <- rbeta(1000, 0.5 + data$ec[i], 0.5 + data$nc[i] - data$ec[i])\n",
    "        ter.post <- rbeta(1000, 0.5 + data$et[i], 0.5 + data$nt[i] - data$et[i])\n",
    "        cer.sd[i] <- mean(sqrt(cer.post * (1-cer.post) / (1+data$nc[i])))\n",
    "        ter.sd[i] <- mean(sqrt(ter.post * (1-ter.post) / (1+data$nt[i])))\n",
    "        #cer.sd[i] <- 1/mean(1/sqrt(cer.post * (1-cer.post) / (1+data$nc[i])))\n",
    "        #ter.sd[i] <- 1/mean(1/sqrt(ter.post * (1-ter.post) / (1+data$nt[i])))\n",
    "    }\n",
    "    if (use.true.sd) {\n",
    "        ## use actual SD (based on true parameter) rather than SD estimated from counts\n",
    "        ## (for use in simulation)\n",
    "        cer.sd <- data$true_cer.sd\n",
    "        ter.sd <- data$true_ter.sd\n",
    "    }\n",
    "    \n",
    "    ## regress TER against CER, and take account of errors in both\n",
    "    ## (note - these are the expected errors under a binomial event count model, and do not \n",
    "    ##  include any additional random variation in RR)\n",
    "    \n",
    "    result <- deming( ter ~ cer, xstd = cer.sd, ystd = ter.sd, x=TRUE, y=TRUE, model=TRUE)\n",
    "    \n",
    "    ## calculate semi-empirical variance-covariance matrix - the values provided by the package\n",
    "    ## are not correct\n",
    "    \n",
    "    result$variance.old <- result$variance\n",
    "    result$ci.old <- result$ci\n",
    "    if (use.new.var) {\n",
    "        xx = cbind(1, cer)\n",
    "        a = result$coef[2]  ## slope estimate\n",
    "        lambda = (ter - xx %*% result$coef) / (a * a * cer.sd + ter.sd)\n",
    "        xx0 <- cer + lambda * a * cer.sd\n",
    "        yy0 <- ter - lambda * ter.sd          ## points (xx0, yy0) now fall on the estimated line\n",
    "        nn.gen = length(cer) * replicates     ## generate data, as a matrix with data in rows: cer.gen[row,]\n",
    "        cer.gen <- matrix(rnorm( n = nn.gen, mean = xx0, sd = cer.sd ), nrow = replicates, byrow=TRUE)\n",
    "        ter.gen <- matrix(rnorm( n = nn.gen, mean = yy0, sd = ter.sd ), nrow = replicates, byrow=TRUE)\n",
    "        ## fit curves to generated data, and collect intercept and slope estimates\n",
    "        results.gen <- matrix( 0, nrow = replicates, ncol = 2)  ## intercept and slope\n",
    "        for (i in 1:replicates) {\n",
    "            result.gen <- deming( ter.gen[i,] ~ cer.gen[i,], xstd = cer.sd, ystd=ter.sd, x=TRUE, y=TRUE, model=TRUE)\n",
    "            results.gen[i,] <- result.gen$coef\n",
    "        }\n",
    "        ## calculate variance-covariance matrix and 95% CI's, and assign to results\n",
    "        result$variance <- cov(results.gen)\n",
    "        result$ci[1,1] <- c(result$coef[1] - 1.96*sqrt(result$variance[1,1]))\n",
    "        result$ci[1,2] <- c(result$coef[1] + 1.96*sqrt(result$variance[1,1]))\n",
    "        result$ci[2,1] <- c(result$coef[2] - 1.96*sqrt(result$variance[2,2]))\n",
    "        result$ci[2,2] <- c(result$coef[2] + 1.96*sqrt(result$variance[2,2]))\n",
    "    }\n",
    "    \n",
    "    ## calculate RR at CER0.  First coefficient is intercept, second is coefficient of CER\n",
    "    x = c(1, cer0)\n",
    "    ter.pred <- result$coef %*% x\n",
    "    ter.var <- x %*% result$variance %*% x\n",
    "    rr <- ter.pred / cer0\n",
    "    rr.sd <- sqrt(ter.var) / cer0\n",
    "    result$RR.at.CER0 <- list(rr = rr, sd = rr.sd, lower = rr - 1.96*rr.sd, upper = rr + 1.96*rr.sd)    \n",
    "    return(result)\n",
    "}\n",
    "\n",
    "assessment <- function(params, n, use.new.var=TRUE, use.true.sd=FALSE) {\n",
    "    ## how often do we get a significant effect of 1/CER on the RR?\n",
    "    signif_nonzero_count = 0\n",
    "    param = 1  ## 1 (intercept) for new (ter ~ cer) model, 2 (slope) for old (rr ~ 1/cer) model\n",
    "    for (i in 1:n) {\n",
    "        data <- do.call(sample_data, params)\n",
    "        dem <- run.deming(data, use.new.var=use.new.var, use.true.sd = use.true.sd)\n",
    "        signif <- dem$ci[param,2]< 0 | dem$ci[param,1] > 0  ## does CI for intercept parameter exclude 0?\n",
    "        signif_nonzero_count <- signif_nonzero_count + signif\n",
    "    }\n",
    "    return(signif_nonzero_count / n)\n",
    "}"
   ]
  },
  {
   "cell_type": "code",
   "execution_count": 26,
   "metadata": {
    "vscode": {
     "languageId": "r"
    }
   },
   "outputs": [],
   "source": [
    "##############################################################\n",
    "## SIMULATION - wordt niet gerund, neemt veel tijd\n",
    "##############################################################\n",
    "\n",
    "##\n",
    "## make data.frame with all combinations of the listed values\n",
    "##\n",
    "tests <- expand.grid(  i2 = c(0,0.25,0.5), N=c(10,50),  beta=c(0,0.1,0.25) )\n",
    "\n",
    "## apply all tests in a data.frame\n",
    "apply.tests <- function(tests, n) {\n",
    "    powers <- c()\n",
    "    for (i in 1:dim(tests)[1]) {\n",
    "        power <- assessment( tests[i,], n=n, use.new.var=TRUE, use.true.sd=FALSE )\n",
    "        powers <- c(powers, power)\n",
    "    }\n",
    "    tests$power <- powers\n",
    "    return(tests)\n",
    "}\n",
    "\n",
    "## 1: 0.03 (200); 0.069 (1000); 0.058 (1000) -- using true sd\n",
    "## 1: 0.025 (1000) -- using sd estimated from expected variance\n",
    "## 1: 0.032 (1000) -- using sd estimated as E(sd | posterior)     <-- deze gekozen\n",
    "## 1: 0.056 0.044 (1000) -- using sd estimated as 1/E(1/sd | posterior)\n",
    "## 1: 0.211 (2000) - using sd estimated as 1/sqrt(E(1/var | posterior))\n",
    "\n",
    "\n",
    "## n=200 takes 60 seconds per test\n",
    "if (FALSE) {\n",
    "    tests.results <- apply.tests(tests[1,], n=2000)\n",
    "    tests.results\n",
    "}\n",
    "\n",
    "## Visualisatie hiervan?  Voeg i2 = 0.25 toe?"
   ]
  },
  {
   "cell_type": "code",
   "execution_count": null,
   "metadata": {
    "vscode": {
     "languageId": "r"
    }
   },
   "outputs": [],
   "source": [
    "##\n",
    "## Analyzing real data:\n",
    "##"
   ]
  },
  {
   "cell_type": "code",
   "execution_count": 36,
   "metadata": {
    "vscode": {
     "languageId": "r"
    }
   },
   "outputs": [],
   "source": [
    "analyse.thijsdata <- function(fname, cer0=0.5) {\n",
    "    data <- read.csv(paste(\"csv files/\",fname,sep=\"\"))\n",
    "    colnames(data) <- c(\"RCT\",\"et\",\"nt\",\"ec\",\"nc\")\n",
    "    out <- run.deming(data, cer0=cer0)\n",
    "    return(out)\n",
    "}\n",
    "\n",
    "summary.thijsdata <- function(fname) {\n",
    "    data <- read.csv(paste(\"csv files/\",fname,sep=\"\"))\n",
    "    colnames(data) <- c(\"RCT\",\"et\",\"nt\",\"ec\",\"nc\")\n",
    "    data$cer <- (data$ec + 1) / (data$nc + 1)\n",
    "    return(data$cer)\n",
    "}\n",
    "\n",
    "studies <- list.files(path = \"csv files\")"
   ]
  },
  {
   "cell_type": "code",
   "execution_count": 37,
   "metadata": {
    "vscode": {
     "languageId": "r"
    }
   },
   "outputs": [
    {
     "name": "stdout",
     "output_type": "stream",
     "text": [
      "[1] \"1_1_mort nor vs dopa.csv\"\n"
     ]
    },
    {
     "ename": "ERROR",
     "evalue": "Error in deming(ter ~ cer, xstd = cer.sd, ystd = ter.sd, x = TRUE, y = TRUE, : less than 3 non-missing observations in the data set\n",
     "output_type": "error",
     "traceback": [
      "Error in deming(ter ~ cer, xstd = cer.sd, ystd = ter.sd, x = TRUE, y = TRUE, : less than 3 non-missing observations in the data set\nTraceback:\n",
      "1. analyse.thijsdata(study, cer0 = cer0)",
      "2. run.deming(data, cer0 = cer0)   # at line 4 of file <text>",
      "3. deming(ter ~ cer, xstd = cer.sd, ystd = ter.sd, x = TRUE, y = TRUE, \n .     model = TRUE)   # at line 35 of file <text>",
      "4. stop(\"less than 3 non-missing observations in the data set\")"
     ]
    }
   ],
   "source": [
    "param = 1\n",
    "cer0 = 0.5       ## verander dit indien nodig\n",
    "results <- NULL\n",
    "for (study in studies) {\n",
    "    out <- analyse.thijsdata( study, cer0=cer0 )\n",
    "    result <- data.frame(study,\n",
    "                         out$coeff[1],  ## intercept\n",
    "                         out$ci[1,1],   ## lower CI\n",
    "                         out$ci[1,2],   ## upper CI\n",
    "                         out$RR.at.CER0$rr,    ## RR estimate, at CER = 0.5 (of zoals boven gekozen)\n",
    "                         out$RR.at.CER0$lower, ## lower CI\n",
    "                         out$RR.at.CER0$upper, ## upper CI\n",
    "                         out$coeff[2],  ## slope\n",
    "                         out$ci[2,1],   ## lower\n",
    "                         out$ci[2,2])   ## upper\n",
    "    row.names(result) <- NULL\n",
    "    names(result) <- c(\"study\",\"b\", \"b.lower95\", \"b.upper95\",\n",
    "                       \"RR\", \"RR.lower95\", \"RR.upper95\",\n",
    "                       \"a\", \"a.lower95\", \"a.upper95\")\n",
    "    results <- rbind(results, result)\n",
    "    print(study)\n",
    "}\n",
    "    \n",
    "results"
   ]
  }
 ],
 "metadata": {
  "kernelspec": {
   "display_name": "R",
   "language": "R",
   "name": "ir"
  },
  "language_info": {
   "codemirror_mode": "r",
   "file_extension": ".r",
   "mimetype": "text/x-r-source",
   "name": "R",
   "pygments_lexer": "r",
   "version": "4.2.2"
  }
 },
 "nbformat": 4,
 "nbformat_minor": 4
}
